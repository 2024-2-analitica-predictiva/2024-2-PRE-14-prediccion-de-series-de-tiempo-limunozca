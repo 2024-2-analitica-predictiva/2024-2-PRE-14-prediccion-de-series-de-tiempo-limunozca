{
 "cells": [
  {
   "cell_type": "code",
   "execution_count": null,
   "metadata": {
    "vscode": {
     "languageId": "plaintext"
    }
   },
   "outputs": [],
   "source": [
    "# =============================================================================\n",
    "#\n",
    "# Pronositco usando un modelo autoregresivo\n",
    "#\n",
    "# =============================================================================\n",
    "import warnings\n",
    "\n",
    "warnings.filterwarnings(\"ignore\")\n",
    "\n",
    "#\n",
    "# Carga de datos\n",
    "#\n",
    "import nbimporter  #  type: ignore\n",
    "import functions  #  type: ignore\n",
    "\n",
    "df_orig = functions.load_data()\n",
    "df_orig.head()\n",
    "\n"
   ]
  },
  {
   "cell_type": "code",
   "execution_count": null,
   "metadata": {
    "vscode": {
     "languageId": "plaintext"
    }
   },
   "outputs": [],
   "source": [
    "\n",
    "\n",
    "#\n",
    "# Remove trend and cycle to make the series stationary\n",
    "#\n",
    "df_orig = functions.remove_trend_and_cycle(df_orig, yt_true_name=\"yt_true\")\n",
    "df_orig.head(20)\n",
    "\n"
   ]
  },
  {
   "cell_type": "code",
   "execution_count": null,
   "metadata": {
    "vscode": {
     "languageId": "plaintext"
    }
   },
   "outputs": [],
   "source": [
    "#\n",
    "# Construcción de la matriz de regresores\n",
    "#\n",
    "p_max = 13\n",
    "df_orig = functions.make_lagged_ts(\n",
    "    df=df_orig,\n",
    "    p_max=p_max,\n",
    "    y_column=\"yt_true_d1d12\",\n",
    "    fmt=\"lagged_{}m\",\n",
    ")\n",
    "df_orig.head(20)\n"
   ]
  },
  {
   "cell_type": "code",
   "execution_count": null,
   "metadata": {
    "vscode": {
     "languageId": "plaintext"
    }
   },
   "outputs": [],
   "source": [
    "#\n",
    "# Remoción de los valores faltantes\n",
    "#\n",
    "df_dropna = df_orig.dropna()\n",
    "\n",
    "\n",
    "\n"
   ]
  },
  {
   "cell_type": "code",
   "execution_count": null,
   "metadata": {
    "vscode": {
     "languageId": "plaintext"
    }
   },
   "outputs": [],
   "source": [
    "\n",
    "#\n",
    "# División de los datos en entrenamiento y prueba\n",
    "#\n",
    "(\n",
    "    X_complete,\n",
    "    y_complete,\n",
    "    X_train,\n",
    "    y_train,\n",
    "    X_test,\n",
    "    y_test,\n",
    ") = functions.train_test_split(\n",
    "    df=df_dropna,\n",
    "    x_columns=[f\"lagged_{i}m\" for i in range(1, 14)],\n",
    "    y_column=\"yt_true_d1d12\",\n",
    ")\n",
    "\n",
    "X_complete.head()\n"
   ]
  },
  {
   "cell_type": "code",
   "execution_count": null,
   "metadata": {
    "vscode": {
     "languageId": "plaintext"
    }
   },
   "outputs": [],
   "source": [
    "\n",
    "#\n",
    "# Pronostico usando regresión lineal\n",
    "#\n",
    "from sklearn.linear_model import LinearRegression\n",
    "\n",
    "\n",
    "def create_pipeline():\n",
    "    \"\"\"Creates a linear regression model.\"\"\"\n",
    "    return LinearRegression()\n",
    "  \n",
    "  \n",
    "  "
   ]
  },
  {
   "cell_type": "code",
   "execution_count": null,
   "metadata": {
    "vscode": {
     "languageId": "plaintext"
    }
   },
   "outputs": [],
   "source": [
    "#\n",
    "# Entrenamiento y pronostico\n",
    "#\n",
    "hidden = 4\n",
    "pipeline = create_pipeline()\n",
    "pipeline.fit(X_train, y_train)\n",
    "df_dropna[f\"yt_d1d12_ar{p_max}\"] = pipeline.predict(X_complete)\n",
    "\n",
    "df_orig.loc[df_dropna.index, f\"yt_d1d12_ar{p_max}\"] = df_dropna[f\"yt_d1d12_ar{p_max}\"]\n",
    "\n",
    "df_orig[[\"yt_true\", \"yt_true_d1d12\", f\"yt_d1d12_ar{p_max}\"]].head(40)\n"
   ]
  },
  {
   "cell_type": "code",
   "execution_count": null,
   "metadata": {
    "vscode": {
     "languageId": "plaintext"
    }
   },
   "outputs": [],
   "source": [
    "#\n",
    "# Integración simple y estacional\n",
    "#\n",
    "import numpy as np  #  type: ignore\n",
    "\n",
    "df_orig = df_orig.assign(yt_pred_d1d13_ar13=np.nan)\n",
    "df_orig.loc[df_dropna.index, \"yt_pred_d1d13_ar13\"] = df_dropna[\"yt_d1d12_ar13\"]\n",
    "df_orig[\"yt_pred_d1d13_ar13\"] += df_orig[\"yt_true\"].shift(1)\n",
    "df_orig[\"yt_pred_d1d13_ar13\"] += df_orig[\"yt_true\"].shift(12)\n",
    "df_orig[\"yt_pred_d1d13_ar13\"] -= df_orig[\"yt_true\"].shift(13)\n",
    "df_orig[[\"yt_true\", \"yt_pred_d1d13_ar13\"]].head(40)\n"
   ]
  },
  {
   "cell_type": "code",
   "execution_count": null,
   "metadata": {
    "vscode": {
     "languageId": "plaintext"
    }
   },
   "outputs": [],
   "source": [
    "\n",
    "#\n",
    "# Gráfico de los pronósticos\n",
    "#\n",
    "functions.plot_time_series(df=df_orig, yt_col=\"yt_true\")\n",
    "\n",
    "\n"
   ]
  },
  {
   "cell_type": "code",
   "execution_count": null,
   "metadata": {
    "vscode": {
     "languageId": "plaintext"
    }
   },
   "outputs": [],
   "source": [
    "\n",
    "\n",
    "#\n",
    "# Almacenamiento de los resultados\n",
    "#\n",
    "functions.save_forecasts(df_orig)\n",
    "\n",
    "\n",
    "\n"
   ]
  },
  {
   "cell_type": "code",
   "execution_count": null,
   "metadata": {
    "vscode": {
     "languageId": "plaintext"
    }
   },
   "outputs": [],
   "source": [
    "\n",
    "metrics = functions.compute_evaluation_metrics(df_orig.dropna())\n",
    "functions.save_metrics(metrics)\n",
    "metrics\n",
    "\n",
    "\n"
   ]
  }
 ],
 "metadata": {
  "language_info": {
   "name": "python"
  }
 },
 "nbformat": 4,
 "nbformat_minor": 2
}
