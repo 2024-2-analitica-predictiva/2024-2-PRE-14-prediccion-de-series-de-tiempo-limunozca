{
 "cells": [
  {
   "cell_type": "code",
   "execution_count": null,
   "metadata": {},
   "outputs": [],
   "source": [
    "# =============================================================================\n",
    "#\n",
    "# Pronostico usando un MLP\n",
    "#\n",
    "# =============================================================================\n",
    "import warnings\n",
    "\n",
    "warnings.filterwarnings(\"ignore\")\n"
   ]
  },
  {
   "cell_type": "code",
   "execution_count": null,
   "metadata": {},
   "outputs": [],
   "source": [
    "\n",
    "#\n",
    "# Carga de datos\n",
    "#\n",
    "import nbimporter  #  type: ignore\n",
    "import functions  #  type: ignore\n",
    "\n",
    "\n",
    "df_orig = functions.load_data()\n",
    "df_orig.head()\n"
   ]
  },
  {
   "cell_type": "code",
   "execution_count": null,
   "metadata": {},
   "outputs": [],
   "source": [
    "#\n",
    "# Construcción de la matriz de regresores\n",
    "#\n",
    "df_orig = functions.make_lagged_ts(\n",
    "    df=df_orig,\n",
    "    p_max=13,\n",
    "    y_column=\"yt_true\",\n",
    "    fmt=\"lagged_{}m\",\n",
    ")\n",
    "df_orig.head()\n",
    "\n"
   ]
  },
  {
   "cell_type": "code",
   "execution_count": null,
   "metadata": {},
   "outputs": [],
   "source": [
    "\n",
    "#\n",
    "# Remoción de los valores faltantes\n",
    "#\n",
    "df_dropna = df_orig.dropna()\n",
    "df_dropna.head()\n",
    "\n",
    "\n"
   ]
  },
  {
   "cell_type": "code",
   "execution_count": null,
   "metadata": {},
   "outputs": [],
   "source": [
    "#\n",
    "# División de los datos en entrenamiento y prueba\n",
    "#\n",
    "(\n",
    "    X_complete,\n",
    "    y_complete,\n",
    "    X_train,\n",
    "    y_train,\n",
    "    X_test,\n",
    "    y_test,\n",
    ") = functions.train_test_split(\n",
    "    df=df_dropna,\n",
    "    x_columns=[f\"lagged_{i}m\" for i in range(1, 13)],\n",
    "    y_column=\"yt_true\",\n",
    ")\n",
    "X_complete.head()\n",
    "\n"
   ]
  },
  {
   "cell_type": "code",
   "execution_count": null,
   "metadata": {},
   "outputs": [],
   "source": [
    "\n",
    "#\n",
    "# Pronostico usando una red neuronal tipo MLP\n",
    "#\n",
    "from sklearn.pipeline import Pipeline  #  type: ignore\n",
    "from sklearn.preprocessing import MinMaxScaler  #  type: ignore\n",
    "from sklearn.compose import TransformedTargetRegressor  #  type: ignore\n",
    "from sklearn.neural_network import MLPRegressor  #  type: ignore"
   ]
  },
  {
   "cell_type": "code",
   "execution_count": null,
   "metadata": {},
   "outputs": [],
   "source": [
    "# Crea un pipeline para automatizar la creacion de un modelo\n",
    "def make_pipeline_from_model(model):\n",
    "    \"\"\"Create a pipeline.\"\"\"\n",
    "    return Pipeline(\n",
    "        [\n",
    "            (\n",
    "                \"scaler\",\n",
    "                MinMaxScaler(),\n",
    "            ),\n",
    "            (\n",
    "                \"regressor\",\n",
    "                TransformedTargetRegressor(\n",
    "                    regressor=model,\n",
    "                    transformer=MinMaxScaler(),\n",
    "                ),\n",
    "            ),\n",
    "        ]\n",
    "    )\n",
    "  \n",
    "  "
   ]
  },
  {
   "cell_type": "code",
   "execution_count": null,
   "metadata": {},
   "outputs": [],
   "source": [
    "  \n",
    "#\n",
    "# Entrenamiento y pronostico\n",
    "#\n",
    "hidden = 8\n",
    "mlp_model = MLPRegressor(\n",
    "    hidden_layer_sizes=(hidden,),\n",
    "    activation=\"logistic\",\n",
    "    learning_rate=\"adaptive\",\n",
    "    momentum=0.01,\n",
    "    learning_rate_init=0.2,\n",
    "    max_iter=10000,\n",
    "    random_state=123456,\n",
    ")\n",
    "mlp_pipeline = make_pipeline_from_model(model=mlp_model)\n",
    "mlp_pipeline.fit(X_train, y_train)\n",
    "\n",
    "df_dropna[f\"yt_pred_mlp_{hidden}\"] = mlp_pipeline.predict(X_complete)\n",
    "df_dropna[[\"yt_true\", f\"yt_pred_mlp_{hidden}\"]].head()\n",
    "  \n",
    "  \n",
    "  "
   ]
  },
  {
   "cell_type": "code",
   "execution_count": null,
   "metadata": {},
   "outputs": [],
   "source": [
    "\n",
    "#\n",
    "# Gráfica de los pronósticos\n",
    "#\n",
    "df_orig.loc[df_dropna.index, f\"yt_pred_mlp_{hidden}\"] = df_dropna[\n",
    "    f\"yt_pred_mlp_{hidden}\"\n",
    "]\n",
    "\n",
    "functions.plot_time_series(df=df_orig, yt_col=\"yt_true\")\n"
   ]
  },
  {
   "cell_type": "code",
   "execution_count": null,
   "metadata": {},
   "outputs": [],
   "source": [
    "#\n",
    "# Almacenamiento de los resultados\n",
    "#\n",
    "functions.save_forecasts(df_orig)\n",
    "\n"
   ]
  },
  {
   "cell_type": "code",
   "execution_count": null,
   "metadata": {},
   "outputs": [],
   "source": [
    "\n",
    "\n",
    "#\n",
    "# Métricas de error\n",
    "#\n",
    "metrics = functions.compute_evaluation_metrics(df_orig.dropna())\n",
    "functions.save_metrics(metrics)\n",
    "metrics\n",
    "\n"
   ]
  }
 ],
 "metadata": {
  "kernelspec": {
   "display_name": ".venv",
   "language": "python",
   "name": "python3"
  },
  "language_info": {
   "name": "python",
   "version": "3.11.9"
  }
 },
 "nbformat": 4,
 "nbformat_minor": 2
}
