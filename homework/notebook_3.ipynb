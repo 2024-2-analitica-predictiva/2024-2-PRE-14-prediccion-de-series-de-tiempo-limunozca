{
 "cells": [
  {
   "cell_type": "code",
   "execution_count": null,
   "metadata": {},
   "outputs": [],
   "source": [
    "# =============================================================================\n",
    "#\n",
    "# Pronostico time trend + fourier seasonal\n",
    "#\n",
    "# =============================================================================\n",
    "\n",
    "#\n",
    "# Carga de datos\n",
    "#\n",
    "import nbimporter  #  type: ignore\n",
    "import functions  #  type: ignore\n",
    "\n",
    "\n",
    "df_orig = functions.load_data()\n",
    "df_orig.head()"
   ]
  },
  {
   "cell_type": "code",
   "execution_count": null,
   "metadata": {},
   "outputs": [],
   "source": [
    "#\n",
    "# Componentes de tendencia lineal\n",
    "#\n",
    "df_orig = functions.add_linear_trend_component(df_orig)\n",
    "df_orig = functions.add_month_component(df_orig)\n",
    "df_orig.head()"
   ]
  },
  {
   "cell_type": "code",
   "execution_count": null,
   "metadata": {},
   "outputs": [],
   "source": [
    "#\n",
    "# Fourier\n",
    "#\n",
    "df_orig = functions.add_sin_cos_components(df_orig)\n",
    "df_orig.head(15)"
   ]
  },
  {
   "cell_type": "code",
   "execution_count": null,
   "metadata": {},
   "outputs": [],
   "source": [
    "#\n",
    "# Particionamiento de los datos\n",
    "#\n",
    "(\n",
    "    X_complete,\n",
    "    y_complete,\n",
    "    X_train,\n",
    "    y_train,\n",
    "    X_test,\n",
    "    y_test,\n",
    ") = functions.train_test_split(\n",
    "    df=df_orig,\n",
    "    x_columns=[\n",
    "        \"trend\",\n",
    "        \"sin_12m\",\n",
    "        \"cos_12m\",\n",
    "        \"sin_6m\",\n",
    "        \"cos_6m\",\n",
    "        \"sin_4m\",\n",
    "        \"cos_4m\",\n",
    "        \"sin_3m\",\n",
    "        \"cos_3m\",\n",
    "    ],\n",
    "    y_column=\"yt_true\",\n",
    ")"
   ]
  },
  {
   "cell_type": "code",
   "execution_count": null,
   "metadata": {},
   "outputs": [],
   "source": [
    "# Especificación del modelo\n",
    "#\n",
    "from sklearn.pipeline import Pipeline  #  type: ignore\n",
    "from sklearn.preprocessing import PolynomialFeatures, MinMaxScaler  #  type: ignore\n",
    "from sklearn.linear_model import LinearRegression  #  type: ignore\n",
    "from sklearn.compose import ColumnTransformer  #  type: ignore\n",
    "\n",
    "pipeline = Pipeline(\n",
    "    [\n",
    "        (\n",
    "            \"preprocessor\",\n",
    "            ColumnTransformer(\n",
    "                [\n",
    "                    (\n",
    "                        \"trend\",\n",
    "                        Pipeline(\n",
    "                            [\n",
    "                                (\"poly\", PolynomialFeatures(degree=3)),\n",
    "                                (\"scaler\", MinMaxScaler()),\n",
    "                            ]\n",
    "                        ),\n",
    "                        [\"trend\"],\n",
    "                    ),\n",
    "                ],\n",
    "                remainder=\"passthrough\",\n",
    "            ),\n",
    "        ),\n",
    "        (\"regressor\", LinearRegression()),\n",
    "    ]\n",
    ")"
   ]
  },
  {
   "cell_type": "code",
   "execution_count": null,
   "metadata": {},
   "outputs": [],
   "source": [
    "#\n",
    "# Entrenamiento y pronostico\n",
    "#\n",
    "pipeline.fit(X_train, y_train)\n",
    "df_orig[\"yt_pred_time_trend_3_fourier\"] = pipeline.predict(X_complete)\n",
    "functions.plot_time_series(df_orig)"
   ]
  },
  {
   "cell_type": "code",
   "execution_count": null,
   "metadata": {},
   "outputs": [],
   "source": [
    "#\n",
    "# Almacenamiento de los resultados\n",
    "#\n",
    "functions.save_forecasts(df_orig)"
   ]
  },
  {
   "cell_type": "code",
   "execution_count": null,
   "metadata": {},
   "outputs": [],
   "source": [
    "#\n",
    "# Métricas de error\n",
    "#\n",
    "metrics = functions.compute_evaluation_metrics(df_orig)\n",
    "functions.save_metrics(metrics)\n",
    "metrics"
   ]
  }
 ],
 "metadata": {
  "kernelspec": {
   "display_name": ".venv",
   "language": "python",
   "name": "python3"
  },
  "language_info": {
   "name": "python",
   "version": "3.11.9"
  }
 },
 "nbformat": 4,
 "nbformat_minor": 2
}
